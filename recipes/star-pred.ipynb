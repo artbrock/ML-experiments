{
 "cells": [
  {
   "cell_type": "code",
   "execution_count": 1,
   "metadata": {},
   "outputs": [
    {
     "name": "stdout",
     "output_type": "stream",
     "text": [
      "Linux sambal 6.1.0-10-amd64 #1 SMP PREEMPT_DYNAMIC Debian 6.1.38-2 (2023-07-27) x86_64 GNU/Linux\n"
     ]
    }
   ],
   "source": [
    "!uname -a\n"
   ]
  },
  {
   "cell_type": "code",
   "execution_count": 2,
   "metadata": {},
   "outputs": [
    {
     "name": "stdout",
     "output_type": "stream",
     "text": [
      "Requirement already satisfied: wandb in /home/shepherd/.local/share/virtualenvs/mli-curriculum-2024-01-vfPa5dsp/lib/python3.11/site-packages (0.16.2)\n",
      "Requirement already satisfied: nltk in /home/shepherd/.local/share/virtualenvs/mli-curriculum-2024-01-vfPa5dsp/lib/python3.11/site-packages (3.8.1)\n",
      "Requirement already satisfied: torchinfo in /home/shepherd/.local/share/virtualenvs/mli-curriculum-2024-01-vfPa5dsp/lib/python3.11/site-packages (1.8.0)\n",
      "Requirement already satisfied: matplotlib==3.8.2 in /home/shepherd/.local/share/virtualenvs/mli-curriculum-2024-01-vfPa5dsp/lib/python3.11/site-packages (3.8.2)\n",
      "Requirement already satisfied: torch==2.1.2 in /home/shepherd/.local/share/virtualenvs/mli-curriculum-2024-01-vfPa5dsp/lib/python3.11/site-packages (2.1.2)\n",
      "Requirement already satisfied: torchvision==0.16.2 in /home/shepherd/.local/share/virtualenvs/mli-curriculum-2024-01-vfPa5dsp/lib/python3.11/site-packages (0.16.2)\n",
      "Requirement already satisfied: numpy in /home/shepherd/.local/share/virtualenvs/mli-curriculum-2024-01-vfPa5dsp/lib/python3.11/site-packages (1.26.3)\n",
      "Requirement already satisfied: pandas in /home/shepherd/.local/share/virtualenvs/mli-curriculum-2024-01-vfPa5dsp/lib/python3.11/site-packages (2.1.4)\n",
      "Requirement already satisfied: python-dotenv in /home/shepherd/.local/share/virtualenvs/mli-curriculum-2024-01-vfPa5dsp/lib/python3.11/site-packages (1.0.0)\n",
      "Requirement already satisfied: psycopg2-binary in /home/shepherd/.local/share/virtualenvs/mli-curriculum-2024-01-vfPa5dsp/lib/python3.11/site-packages (2.9.9)\n",
      "Requirement already satisfied: pinecone-client in /home/shepherd/.local/share/virtualenvs/mli-curriculum-2024-01-vfPa5dsp/lib/python3.11/site-packages (2.2.4)\n",
      "Requirement already satisfied: contourpy>=1.0.1 in /home/shepherd/.local/share/virtualenvs/mli-curriculum-2024-01-vfPa5dsp/lib/python3.11/site-packages (from matplotlib==3.8.2) (1.2.0)\n",
      "Requirement already satisfied: cycler>=0.10 in /home/shepherd/.local/share/virtualenvs/mli-curriculum-2024-01-vfPa5dsp/lib/python3.11/site-packages (from matplotlib==3.8.2) (0.12.1)\n",
      "Requirement already satisfied: fonttools>=4.22.0 in /home/shepherd/.local/share/virtualenvs/mli-curriculum-2024-01-vfPa5dsp/lib/python3.11/site-packages (from matplotlib==3.8.2) (4.47.0)\n",
      "Requirement already satisfied: kiwisolver>=1.3.1 in /home/shepherd/.local/share/virtualenvs/mli-curriculum-2024-01-vfPa5dsp/lib/python3.11/site-packages (from matplotlib==3.8.2) (1.4.5)\n",
      "Requirement already satisfied: packaging>=20.0 in /home/shepherd/.local/share/virtualenvs/mli-curriculum-2024-01-vfPa5dsp/lib/python3.11/site-packages (from matplotlib==3.8.2) (23.2)\n",
      "Requirement already satisfied: pillow>=8 in /home/shepherd/.local/share/virtualenvs/mli-curriculum-2024-01-vfPa5dsp/lib/python3.11/site-packages (from matplotlib==3.8.2) (10.2.0)\n",
      "Requirement already satisfied: pyparsing>=2.3.1 in /home/shepherd/.local/share/virtualenvs/mli-curriculum-2024-01-vfPa5dsp/lib/python3.11/site-packages (from matplotlib==3.8.2) (3.1.1)\n",
      "Requirement already satisfied: python-dateutil>=2.7 in /home/shepherd/.local/share/virtualenvs/mli-curriculum-2024-01-vfPa5dsp/lib/python3.11/site-packages (from matplotlib==3.8.2) (2.8.2)\n",
      "Requirement already satisfied: filelock in /home/shepherd/.local/share/virtualenvs/mli-curriculum-2024-01-vfPa5dsp/lib/python3.11/site-packages (from torch==2.1.2) (3.13.1)\n",
      "Requirement already satisfied: typing-extensions in /home/shepherd/.local/share/virtualenvs/mli-curriculum-2024-01-vfPa5dsp/lib/python3.11/site-packages (from torch==2.1.2) (4.9.0)\n",
      "Requirement already satisfied: sympy in /home/shepherd/.local/share/virtualenvs/mli-curriculum-2024-01-vfPa5dsp/lib/python3.11/site-packages (from torch==2.1.2) (1.12)\n",
      "Requirement already satisfied: networkx in /home/shepherd/.local/share/virtualenvs/mli-curriculum-2024-01-vfPa5dsp/lib/python3.11/site-packages (from torch==2.1.2) (3.2.1)\n",
      "Requirement already satisfied: jinja2 in /home/shepherd/.local/share/virtualenvs/mli-curriculum-2024-01-vfPa5dsp/lib/python3.11/site-packages (from torch==2.1.2) (3.1.3)\n",
      "Requirement already satisfied: fsspec in /home/shepherd/.local/share/virtualenvs/mli-curriculum-2024-01-vfPa5dsp/lib/python3.11/site-packages (from torch==2.1.2) (2023.12.2)\n",
      "Requirement already satisfied: nvidia-cuda-nvrtc-cu12==12.1.105 in /home/shepherd/.local/share/virtualenvs/mli-curriculum-2024-01-vfPa5dsp/lib/python3.11/site-packages (from torch==2.1.2) (12.1.105)\n",
      "Requirement already satisfied: nvidia-cuda-runtime-cu12==12.1.105 in /home/shepherd/.local/share/virtualenvs/mli-curriculum-2024-01-vfPa5dsp/lib/python3.11/site-packages (from torch==2.1.2) (12.1.105)\n",
      "Requirement already satisfied: nvidia-cuda-cupti-cu12==12.1.105 in /home/shepherd/.local/share/virtualenvs/mli-curriculum-2024-01-vfPa5dsp/lib/python3.11/site-packages (from torch==2.1.2) (12.1.105)\n",
      "Requirement already satisfied: nvidia-cudnn-cu12==8.9.2.26 in /home/shepherd/.local/share/virtualenvs/mli-curriculum-2024-01-vfPa5dsp/lib/python3.11/site-packages (from torch==2.1.2) (8.9.2.26)\n",
      "Requirement already satisfied: nvidia-cublas-cu12==12.1.3.1 in /home/shepherd/.local/share/virtualenvs/mli-curriculum-2024-01-vfPa5dsp/lib/python3.11/site-packages (from torch==2.1.2) (12.1.3.1)\n",
      "Requirement already satisfied: nvidia-cufft-cu12==11.0.2.54 in /home/shepherd/.local/share/virtualenvs/mli-curriculum-2024-01-vfPa5dsp/lib/python3.11/site-packages (from torch==2.1.2) (11.0.2.54)\n",
      "Requirement already satisfied: nvidia-curand-cu12==10.3.2.106 in /home/shepherd/.local/share/virtualenvs/mli-curriculum-2024-01-vfPa5dsp/lib/python3.11/site-packages (from torch==2.1.2) (10.3.2.106)\n",
      "Requirement already satisfied: nvidia-cusolver-cu12==11.4.5.107 in /home/shepherd/.local/share/virtualenvs/mli-curriculum-2024-01-vfPa5dsp/lib/python3.11/site-packages (from torch==2.1.2) (11.4.5.107)\n",
      "Requirement already satisfied: nvidia-cusparse-cu12==12.1.0.106 in /home/shepherd/.local/share/virtualenvs/mli-curriculum-2024-01-vfPa5dsp/lib/python3.11/site-packages (from torch==2.1.2) (12.1.0.106)\n",
      "Requirement already satisfied: nvidia-nccl-cu12==2.18.1 in /home/shepherd/.local/share/virtualenvs/mli-curriculum-2024-01-vfPa5dsp/lib/python3.11/site-packages (from torch==2.1.2) (2.18.1)\n",
      "Requirement already satisfied: nvidia-nvtx-cu12==12.1.105 in /home/shepherd/.local/share/virtualenvs/mli-curriculum-2024-01-vfPa5dsp/lib/python3.11/site-packages (from torch==2.1.2) (12.1.105)\n",
      "Requirement already satisfied: triton==2.1.0 in /home/shepherd/.local/share/virtualenvs/mli-curriculum-2024-01-vfPa5dsp/lib/python3.11/site-packages (from torch==2.1.2) (2.1.0)\n",
      "Requirement already satisfied: requests in /home/shepherd/.local/share/virtualenvs/mli-curriculum-2024-01-vfPa5dsp/lib/python3.11/site-packages (from torchvision==0.16.2) (2.31.0)\n",
      "Requirement already satisfied: nvidia-nvjitlink-cu12 in /home/shepherd/.local/share/virtualenvs/mli-curriculum-2024-01-vfPa5dsp/lib/python3.11/site-packages (from nvidia-cusolver-cu12==11.4.5.107->torch==2.1.2) (12.3.101)\n",
      "Requirement already satisfied: Click!=8.0.0,>=7.1 in /home/shepherd/.local/share/virtualenvs/mli-curriculum-2024-01-vfPa5dsp/lib/python3.11/site-packages (from wandb) (8.1.7)\n",
      "Requirement already satisfied: GitPython!=3.1.29,>=1.0.0 in /home/shepherd/.local/share/virtualenvs/mli-curriculum-2024-01-vfPa5dsp/lib/python3.11/site-packages (from wandb) (3.1.41)\n",
      "Requirement already satisfied: psutil>=5.0.0 in /home/shepherd/.local/share/virtualenvs/mli-curriculum-2024-01-vfPa5dsp/lib/python3.11/site-packages (from wandb) (5.9.8)\n",
      "Requirement already satisfied: sentry-sdk>=1.0.0 in /home/shepherd/.local/share/virtualenvs/mli-curriculum-2024-01-vfPa5dsp/lib/python3.11/site-packages (from wandb) (1.39.2)\n",
      "Requirement already satisfied: docker-pycreds>=0.4.0 in /home/shepherd/.local/share/virtualenvs/mli-curriculum-2024-01-vfPa5dsp/lib/python3.11/site-packages (from wandb) (0.4.0)\n",
      "Requirement already satisfied: PyYAML in /home/shepherd/.local/share/virtualenvs/mli-curriculum-2024-01-vfPa5dsp/lib/python3.11/site-packages (from wandb) (6.0.1)\n",
      "Requirement already satisfied: setproctitle in /home/shepherd/.local/share/virtualenvs/mli-curriculum-2024-01-vfPa5dsp/lib/python3.11/site-packages (from wandb) (1.3.3)\n",
      "Requirement already satisfied: setuptools in /home/shepherd/.local/share/virtualenvs/mli-curriculum-2024-01-vfPa5dsp/lib/python3.11/site-packages (from wandb) (69.0.3)\n",
      "Requirement already satisfied: appdirs>=1.4.3 in /home/shepherd/.local/share/virtualenvs/mli-curriculum-2024-01-vfPa5dsp/lib/python3.11/site-packages (from wandb) (1.4.4)\n",
      "Requirement already satisfied: protobuf!=4.21.0,<5,>=3.19.0 in /home/shepherd/.local/share/virtualenvs/mli-curriculum-2024-01-vfPa5dsp/lib/python3.11/site-packages (from wandb) (4.25.2)\n",
      "Requirement already satisfied: joblib in /home/shepherd/.local/share/virtualenvs/mli-curriculum-2024-01-vfPa5dsp/lib/python3.11/site-packages (from nltk) (1.3.2)\n",
      "Requirement already satisfied: regex>=2021.8.3 in /home/shepherd/.local/share/virtualenvs/mli-curriculum-2024-01-vfPa5dsp/lib/python3.11/site-packages (from nltk) (2023.12.25)\n",
      "Requirement already satisfied: tqdm in /home/shepherd/.local/share/virtualenvs/mli-curriculum-2024-01-vfPa5dsp/lib/python3.11/site-packages (from nltk) (4.66.1)\n",
      "Requirement already satisfied: pytz>=2020.1 in /home/shepherd/.local/share/virtualenvs/mli-curriculum-2024-01-vfPa5dsp/lib/python3.11/site-packages (from pandas) (2023.3.post1)\n",
      "Requirement already satisfied: tzdata>=2022.1 in /home/shepherd/.local/share/virtualenvs/mli-curriculum-2024-01-vfPa5dsp/lib/python3.11/site-packages (from pandas) (2023.4)\n",
      "Requirement already satisfied: loguru>=0.5.0 in /home/shepherd/.local/share/virtualenvs/mli-curriculum-2024-01-vfPa5dsp/lib/python3.11/site-packages (from pinecone-client) (0.7.2)\n",
      "Requirement already satisfied: dnspython>=2.0.0 in /home/shepherd/.local/share/virtualenvs/mli-curriculum-2024-01-vfPa5dsp/lib/python3.11/site-packages (from pinecone-client) (2.5.0)\n",
      "Requirement already satisfied: urllib3>=1.21.1 in /home/shepherd/.local/share/virtualenvs/mli-curriculum-2024-01-vfPa5dsp/lib/python3.11/site-packages (from pinecone-client) (2.1.0)\n",
      "Requirement already satisfied: six>=1.4.0 in /home/shepherd/.local/share/virtualenvs/mli-curriculum-2024-01-vfPa5dsp/lib/python3.11/site-packages (from docker-pycreds>=0.4.0->wandb) (1.16.0)\n",
      "Requirement already satisfied: gitdb<5,>=4.0.1 in /home/shepherd/.local/share/virtualenvs/mli-curriculum-2024-01-vfPa5dsp/lib/python3.11/site-packages (from GitPython!=3.1.29,>=1.0.0->wandb) (4.0.11)\n",
      "Requirement already satisfied: charset-normalizer<4,>=2 in /home/shepherd/.local/share/virtualenvs/mli-curriculum-2024-01-vfPa5dsp/lib/python3.11/site-packages (from requests->torchvision==0.16.2) (3.3.2)\n",
      "Requirement already satisfied: idna<4,>=2.5 in /home/shepherd/.local/share/virtualenvs/mli-curriculum-2024-01-vfPa5dsp/lib/python3.11/site-packages (from requests->torchvision==0.16.2) (3.6)\n",
      "Requirement already satisfied: certifi>=2017.4.17 in /home/shepherd/.local/share/virtualenvs/mli-curriculum-2024-01-vfPa5dsp/lib/python3.11/site-packages (from requests->torchvision==0.16.2) (2023.11.17)\n",
      "Requirement already satisfied: MarkupSafe>=2.0 in /home/shepherd/.local/share/virtualenvs/mli-curriculum-2024-01-vfPa5dsp/lib/python3.11/site-packages (from jinja2->torch==2.1.2) (2.1.4)\n",
      "Requirement already satisfied: mpmath>=0.19 in /home/shepherd/.local/share/virtualenvs/mli-curriculum-2024-01-vfPa5dsp/lib/python3.11/site-packages (from sympy->torch==2.1.2) (1.3.0)\n",
      "Requirement already satisfied: smmap<6,>=3.0.1 in /home/shepherd/.local/share/virtualenvs/mli-curriculum-2024-01-vfPa5dsp/lib/python3.11/site-packages (from gitdb<5,>=4.0.1->GitPython!=3.1.29,>=1.0.0->wandb) (5.0.1)\n"
     ]
    }
   ],
   "source": [
    "\n",
    "!pip install wandb nltk torchinfo matplotlib==3.8.2 torch==2.1.2 torchvision==0.16.2 numpy pandas  python-dotenv psycopg2-binary  pinecone-client tensorflow_hub"
   ]
  },
  {
   "cell_type": "code",
   "execution_count": 2,
   "metadata": {},
   "outputs": [
    {
     "name": "stderr",
     "output_type": "stream",
     "text": [
      "/tmp/ipykernel_3228/2067779224.py:8: DeprecationWarning: \n",
      "Pyarrow will become a required dependency of pandas in the next major release of pandas (pandas 3.0),\n",
      "(to allow more performant data types, such as the Arrow string type, and better interoperability with other libraries)\n",
      "but was not found to be installed on your system.\n",
      "If this would cause problems for you,\n",
      "please provide us feedback at https://github.com/pandas-dev/pandas/issues/54466\n",
      "        \n",
      "  import pandas as pd\n",
      "2024-02-01 09:27:47.554716: I tensorflow/core/util/port.cc:113] oneDNN custom operations are on. You may see slightly different numerical results due to floating-point round-off errors from different computation orders. To turn them off, set the environment variable `TF_ENABLE_ONEDNN_OPTS=0`.\n",
      "2024-02-01 09:27:47.786697: E external/local_xla/xla/stream_executor/cuda/cuda_dnn.cc:9261] Unable to register cuDNN factory: Attempting to register factory for plugin cuDNN when one has already been registered\n",
      "2024-02-01 09:27:47.786728: E external/local_xla/xla/stream_executor/cuda/cuda_fft.cc:607] Unable to register cuFFT factory: Attempting to register factory for plugin cuFFT when one has already been registered\n",
      "2024-02-01 09:27:47.816587: E external/local_xla/xla/stream_executor/cuda/cuda_blas.cc:1515] Unable to register cuBLAS factory: Attempting to register factory for plugin cuBLAS when one has already been registered\n",
      "2024-02-01 09:27:47.877447: I tensorflow/core/platform/cpu_feature_guard.cc:182] This TensorFlow binary is optimized to use available CPU instructions in performance-critical operations.\n",
      "To enable the following instructions: AVX2 AVX512F AVX512_VNNI FMA, in other operations, rebuild TensorFlow with the appropriate compiler flags.\n",
      "2024-02-01 09:27:48.828483: W tensorflow/compiler/tf2tensorrt/utils/py_utils.cc:38] TF-TRT Warning: Could not find TensorRT\n"
     ]
    }
   ],
   "source": [
    "import torch\n",
    "import torch.nn as nn  # (i.e. \"neural network\")\n",
    "import torch.optim as optim\n",
    "from torchvision import datasets, transforms\n",
    "import matplotlib.pyplot as plt\n",
    "import wandb\n",
    "import numpy as np\n",
    "import pandas as pd\n",
    "import nltk\n",
    "from nltk.tokenize import word_tokenize\n",
    "from torch.utils.data import DataLoader\n",
    "\n",
    "import tensorflow_hub as hub\n",
    "USE = hub.load(\"https://tfhub.dev/google/universal-sentence-encoder/4\")\n",
    "import torch.nn.functional as F\n",
    "\n",
    "device = torch.device(\"cuda\" if torch.cuda.is_available() else \"cpu\")\n"
   ]
  },
  {
   "cell_type": "code",
   "execution_count": 140,
   "metadata": {},
   "outputs": [
    {
     "data": {
      "text/html": [
       "<div>\n",
       "<style scoped>\n",
       "    .dataframe tbody tr th:only-of-type {\n",
       "        vertical-align: middle;\n",
       "    }\n",
       "\n",
       "    .dataframe tbody tr th {\n",
       "        vertical-align: top;\n",
       "    }\n",
       "\n",
       "    .dataframe thead th {\n",
       "        text-align: right;\n",
       "    }\n",
       "</style>\n",
       "<table border=\"1\" class=\"dataframe\">\n",
       "  <thead>\n",
       "    <tr style=\"text-align: right;\">\n",
       "      <th></th>\n",
       "      <th>directions</th>\n",
       "      <th>fat</th>\n",
       "      <th>date</th>\n",
       "      <th>categories</th>\n",
       "      <th>calories</th>\n",
       "      <th>desc</th>\n",
       "      <th>protein</th>\n",
       "      <th>rating</th>\n",
       "      <th>title</th>\n",
       "      <th>ingredients</th>\n",
       "      <th>sodium</th>\n",
       "    </tr>\n",
       "  </thead>\n",
       "  <tbody>\n",
       "    <tr>\n",
       "      <th>0</th>\n",
       "      <td>[1. Place the stock, lentils, celery, carrot, ...</td>\n",
       "      <td>7.0</td>\n",
       "      <td>2006-09-01 04:00:00+00:00</td>\n",
       "      <td>[Sandwich, Bean, Fruit, Tomato, turkey, Vegeta...</td>\n",
       "      <td>426.0</td>\n",
       "      <td>None</td>\n",
       "      <td>30.0</td>\n",
       "      <td>2.500</td>\n",
       "      <td>Lentil, Apple, and Turkey Wrap</td>\n",
       "      <td>[4 cups low-sodium vegetable or chicken stock,...</td>\n",
       "      <td>559.0</td>\n",
       "    </tr>\n",
       "    <tr>\n",
       "      <th>1</th>\n",
       "      <td>[Combine first 9 ingredients in heavy medium s...</td>\n",
       "      <td>23.0</td>\n",
       "      <td>2004-08-20 04:00:00+00:00</td>\n",
       "      <td>[Food Processor, Onion, Pork, Bake, Bastille D...</td>\n",
       "      <td>403.0</td>\n",
       "      <td>This uses the same ingredients found in boudin...</td>\n",
       "      <td>18.0</td>\n",
       "      <td>4.375</td>\n",
       "      <td>Boudin Blanc Terrine with Red Onion Confit</td>\n",
       "      <td>[1 1/2 cups whipping cream, 2 medium onions, c...</td>\n",
       "      <td>1439.0</td>\n",
       "    </tr>\n",
       "    <tr>\n",
       "      <th>2</th>\n",
       "      <td>[In a large heavy saucepan cook diced fennel a...</td>\n",
       "      <td>7.0</td>\n",
       "      <td>2004-08-20 04:00:00+00:00</td>\n",
       "      <td>[Soup/Stew, Dairy, Potato, Vegetable, Fennel, ...</td>\n",
       "      <td>165.0</td>\n",
       "      <td>None</td>\n",
       "      <td>6.0</td>\n",
       "      <td>3.750</td>\n",
       "      <td>Potato and Fennel Soup Hodge</td>\n",
       "      <td>[1 fennel bulb (sometimes called anise), stalk...</td>\n",
       "      <td>165.0</td>\n",
       "    </tr>\n",
       "    <tr>\n",
       "      <th>3</th>\n",
       "      <td>[Heat oil in heavy large skillet over medium-h...</td>\n",
       "      <td>NaN</td>\n",
       "      <td>2009-03-27 04:00:00+00:00</td>\n",
       "      <td>[Fish, Olive, Tomato, Sauté, Low Fat, Low Cal,...</td>\n",
       "      <td>NaN</td>\n",
       "      <td>The Sicilian-style tomato sauce has tons of Me...</td>\n",
       "      <td>NaN</td>\n",
       "      <td>5.000</td>\n",
       "      <td>Mahi-Mahi in Tomato Olive Sauce</td>\n",
       "      <td>[2 tablespoons extra-virgin olive oil, 1 cup c...</td>\n",
       "      <td>NaN</td>\n",
       "    </tr>\n",
       "    <tr>\n",
       "      <th>4</th>\n",
       "      <td>[Preheat oven to 350°F. Lightly grease 8x8x2-i...</td>\n",
       "      <td>32.0</td>\n",
       "      <td>2004-08-20 04:00:00+00:00</td>\n",
       "      <td>[Cheese, Dairy, Pasta, Vegetable, Side, Bake, ...</td>\n",
       "      <td>547.0</td>\n",
       "      <td>None</td>\n",
       "      <td>20.0</td>\n",
       "      <td>3.125</td>\n",
       "      <td>Spinach Noodle Casserole</td>\n",
       "      <td>[1 12-ounce package frozen spinach soufflé, th...</td>\n",
       "      <td>452.0</td>\n",
       "    </tr>\n",
       "  </tbody>\n",
       "</table>\n",
       "</div>"
      ],
      "text/plain": [
       "                                          directions   fat  \\\n",
       "0  [1. Place the stock, lentils, celery, carrot, ...   7.0   \n",
       "1  [Combine first 9 ingredients in heavy medium s...  23.0   \n",
       "2  [In a large heavy saucepan cook diced fennel a...   7.0   \n",
       "3  [Heat oil in heavy large skillet over medium-h...   NaN   \n",
       "4  [Preheat oven to 350°F. Lightly grease 8x8x2-i...  32.0   \n",
       "\n",
       "                       date  \\\n",
       "0 2006-09-01 04:00:00+00:00   \n",
       "1 2004-08-20 04:00:00+00:00   \n",
       "2 2004-08-20 04:00:00+00:00   \n",
       "3 2009-03-27 04:00:00+00:00   \n",
       "4 2004-08-20 04:00:00+00:00   \n",
       "\n",
       "                                          categories  calories  \\\n",
       "0  [Sandwich, Bean, Fruit, Tomato, turkey, Vegeta...     426.0   \n",
       "1  [Food Processor, Onion, Pork, Bake, Bastille D...     403.0   \n",
       "2  [Soup/Stew, Dairy, Potato, Vegetable, Fennel, ...     165.0   \n",
       "3  [Fish, Olive, Tomato, Sauté, Low Fat, Low Cal,...       NaN   \n",
       "4  [Cheese, Dairy, Pasta, Vegetable, Side, Bake, ...     547.0   \n",
       "\n",
       "                                                desc  protein  rating  \\\n",
       "0                                               None     30.0   2.500   \n",
       "1  This uses the same ingredients found in boudin...     18.0   4.375   \n",
       "2                                               None      6.0   3.750   \n",
       "3  The Sicilian-style tomato sauce has tons of Me...      NaN   5.000   \n",
       "4                                               None     20.0   3.125   \n",
       "\n",
       "                                         title  \\\n",
       "0              Lentil, Apple, and Turkey Wrap    \n",
       "1  Boudin Blanc Terrine with Red Onion Confit    \n",
       "2                Potato and Fennel Soup Hodge    \n",
       "3             Mahi-Mahi in Tomato Olive Sauce    \n",
       "4                    Spinach Noodle Casserole    \n",
       "\n",
       "                                         ingredients  sodium  \n",
       "0  [4 cups low-sodium vegetable or chicken stock,...   559.0  \n",
       "1  [1 1/2 cups whipping cream, 2 medium onions, c...  1439.0  \n",
       "2  [1 fennel bulb (sometimes called anise), stalk...   165.0  \n",
       "3  [2 tablespoons extra-virgin olive oil, 1 cup c...     NaN  \n",
       "4  [1 12-ounce package frozen spinach soufflé, th...   452.0  "
      ]
     },
     "execution_count": 140,
     "metadata": {},
     "output_type": "execute_result"
    }
   ],
   "source": [
    "JSON_FILE = \"./downloads/full_format_recipes.json\"\n",
    "dataset = pd.read_json(JSON_FILE)\n",
    "dataset.head()"
   ]
  },
  {
   "cell_type": "markdown",
   "metadata": {},
   "source": [
    "### clean the data"
   ]
  },
  {
   "cell_type": "code",
   "execution_count": 147,
   "metadata": {},
   "outputs": [
    {
     "name": "stdout",
     "output_type": "stream",
     "text": [
      "missing ingredients 0\n",
      "missing ratings 0\n",
      "missing directions 0\n"
     ]
    },
    {
     "data": {
      "text/plain": [
       "directions     False\n",
       "fat            False\n",
       "date           False\n",
       "categories     False\n",
       "calories       False\n",
       "desc           False\n",
       "protein        False\n",
       "rating         False\n",
       "title          False\n",
       "ingredients    False\n",
       "sodium         False\n",
       "dtype: bool"
      ]
     },
     "execution_count": 147,
     "metadata": {},
     "output_type": "execute_result"
    }
   ],
   "source": [
    "dataset = dataset[dataset['directions'].notna()]\n",
    "dataset = dataset[dataset['rating'].notna()]\n",
    "print(\"missing ingredients\", dataset['ingredients'].isnull().sum())\n",
    "print(\"missing ratings\", dataset['rating'].isna().sum())\n",
    "print(\"missing directions\", dataset['directions'].isnull().sum())"
   ]
  },
  {
   "cell_type": "code",
   "execution_count": 158,
   "metadata": {},
   "outputs": [],
   "source": [
    "device = torch.device(\"cuda\" if torch.cuda.is_available() else \"cpu\")\n",
    "class DataFrameDataset(torch.utils.data.Dataset):\n",
    "    def __init__(self, input):\n",
    "        self.dataframe = pd.DataFrame()\n",
    "        self.dataframe['rating'] = torch.tensor(input['rating'], dtype=torch.float) / 5.0\n",
    "        self.dataframe['recipe'] = input.apply(self.format, axis=1)\n",
    "\n",
    "        recipe = self.dataframe['recipe']\n",
    "        good = recipe.apply(lambda x: isinstance(x, torch.Tensor))\n",
    "        self.dataframe = self.dataframe[good]\n",
    "        \n",
    "        # non_tensors = self.dataframe['recipe'].map(lambda x: not isinstance(x, torch.Tensor))\n",
    "        # self.dataframe['recipe'] = self.dataframe['recipe'][non_tensors]\n",
    "\n",
    "    def __len__(self):\n",
    "        return len(self.dataframe)\n",
    "\n",
    "    def __getitem__(self, idx):\n",
    "        input = self.dataframe.iloc[idx]['recipe']\n",
    "        label = self.dataframe.iloc[idx]['rating']\n",
    "        return torch.tensor(input, dtype=torch.float), torch.tensor([label], dtype=torch.float)\n",
    "\n",
    "    def embed(self, sentence):\n",
    "        embedding = USE([sentence])\n",
    "        return  torch.from_numpy(embedding.numpy()).float().squeeze(0)\n",
    "\n",
    "    def format(self, data):\n",
    "        ingredients = \" \".join(data['ingredients']) if data['ingredients'] else \"\"\n",
    "        steps = \" \".join(data['directions']) if data['directions'] else \"\"\n",
    "        recipe = f\"TITLE: {data['title']} \\nDESCRIPTION: {data['desc']} \\nINGREDIENTS: {ingredients} \\nINSTRUCTIONS: {steps}\"\n",
    "        return self.embed(recipe)\n",
    "\n",
    "clean_data = DataFrameDataset(dataset)\n"
   ]
  },
  {
   "cell_type": "code",
   "execution_count": 159,
   "metadata": {},
   "outputs": [
    {
     "name": "stdout",
     "output_type": "stream",
     "text": [
      "(0,)\n"
     ]
    }
   ],
   "source": [
    "recipe = clean_data.dataframe['recipe']\n",
    "bad = recipe.apply(lambda x: not isinstance(x, torch.Tensor))\n",
    "print(recipe[bad].shape)"
   ]
  },
  {
   "cell_type": "code",
   "execution_count": 160,
   "metadata": {},
   "outputs": [
    {
     "name": "stdout",
     "output_type": "stream",
     "text": [
      "Total size: 20070\n",
      "Train size: 15253\n",
      "Test size: 2409\n",
      "Val size: 2408\n"
     ]
    }
   ],
   "source": [
    "# 70% of processed_dataset is used for training\n",
    "train_size = int(0.76 * len(clean_data))\n",
    "# 15% of clean_data is used for validation\n",
    "val_size = int(0.12 * len(clean_data))\n",
    "# The remaining 15% is used for testing\n",
    "test_size = len(clean_data) - train_size - val_size\n",
    "\n",
    "\n",
    "train_data, val_data, test_data = torch.utils.data.random_split(\n",
    "   clean_data, [train_size, val_size, test_size]\n",
    ")\n",
    "\n",
    "print(f\"Total size: {len(clean_data)}\")\n",
    "print(f\"Train size: {len(train_data)}\")\n",
    "print(f\"Test size: {len(test_data)}\")\n",
    "print(f\"Val size: {len(val_data)}\")\n"
   ]
  },
  {
   "cell_type": "code",
   "execution_count": 177,
   "metadata": {},
   "outputs": [],
   "source": [
    "\n",
    "class StarModel(nn.Module):\n",
    "    def __init__(self):\n",
    "        super(StarModel, self).__init__()\n",
    "        self.fc1 = nn.Linear(512, 256)\n",
    "        self.fc2 = nn.Linear(256, 128)\n",
    "        self.fc3 = nn.Linear(128, 1)\n",
    "\n",
    "    def forward(self, x):\n",
    "        # Pass data through fc1\n",
    "        x = self.fc1(x)\n",
    "        # Use ReLU activation function\n",
    "        x = F.relu(x)\n",
    "        # Pass data through fc2\n",
    "        x = self.fc2(x)\n",
    "        # UsF.ReLU activation function\n",
    "        x = F.relu(x)\n",
    "        # Pass data through fc3\n",
    "        x = self.fc3(x)\n",
    "        x = torch.sigmoid(x)\n",
    "        return x\n",
    "\n"
   ]
  },
  {
   "cell_type": "code",
   "execution_count": 187,
   "metadata": {},
   "outputs": [
    {
     "name": "stdout",
     "output_type": "stream",
     "text": [
      "<class 'torch.utils.data.dataset.Subset'>\n"
     ]
    },
    {
     "data": {
      "text/plain": [
       "StarModel(\n",
       "  (fc1): Linear(in_features=512, out_features=256, bias=True)\n",
       "  (fc2): Linear(in_features=256, out_features=128, bias=True)\n",
       "  (fc3): Linear(in_features=128, out_features=1, bias=True)\n",
       ")"
      ]
     },
     "execution_count": 187,
     "metadata": {},
     "output_type": "execute_result"
    }
   ],
   "source": [
    "print(type(train_data))\n",
    "\n",
    "BATCH_SIZE = 128\n",
    "# Number of epochs to train for\n",
    "epochs = 8\n",
    "\n",
    "\n",
    "# Create a DataLoader with batch size of 32\n",
    "train_loader = DataLoader(train_data, batch_size=BATCH_SIZE, shuffle=True)\n",
    "\n",
    "# Define a loss function - Mean Squared Error is used here as an example\n",
    "criterion = nn.MSELoss()\n",
    "\n",
    "# Define an optimizer - Stochastic Gradient Descent is used here as an example\n",
    "optimizer = optim.SGD(net.parameters(), lr=0.0001)\n",
    "\n",
    "\n",
    "model = StarModel()\n",
    "model.to(device)\n",
    "model.train()\n"
   ]
  },
  {
   "cell_type": "code",
   "execution_count": 190,
   "metadata": {},
   "outputs": [
    {
     "name": "stdout",
     "output_type": "stream",
     "text": [
      "8\n"
     ]
    },
    {
     "name": "stderr",
     "output_type": "stream",
     "text": [
      "/tmp/ipykernel_3228/3461303125.py:21: UserWarning: To copy construct from a tensor, it is recommended to use sourceTensor.clone().detach() or sourceTensor.clone().detach().requires_grad_(True), rather than torch.tensor(sourceTensor).\n",
      "  return torch.tensor(input, dtype=torch.float), torch.tensor([label], dtype=torch.float)\n"
     ]
    },
    {
     "name": "stdout",
     "output_type": "stream",
     "text": [
      "Epoch 1/8 Loss: 0.15911194682121277\n",
      "Epoch 2/8 Loss: 0.16134245693683624\n",
      "Epoch 3/8 Loss: 0.10743139684200287\n",
      "Epoch 4/8 Loss: 0.15251366794109344\n",
      "Epoch 5/8 Loss: 0.12129287421703339\n",
      "Epoch 6/8 Loss: 0.12029225379228592\n",
      "Epoch 7/8 Loss: 0.13384616374969482\n",
      "Epoch 8/8 Loss: 0.15007802844047546\n"
     ]
    },
    {
     "data": {
      "image/png": "[encoded data removed]",
      "text/plain": [
       "<Figure size 640x480 with 1 Axes>"
      ]
     },
     "metadata": {},
     "output_type": "display_data"
    }
   ],
   "source": [
    "# Train the model\n",
    "print(epochs)\n",
    "loss_history = []\n",
    "for epoch in range(epochs):\n",
    "    for inputs, targets in train_loader:\n",
    "\n",
    "        # print(inputs.shape, targets.shape)\n",
    "        # print(targets[0].shape)\n",
    "\n",
    "        # print(inputs, targets)\n",
    "        # Zero the parameter gradients\n",
    "        optimizer.zero_grad()\n",
    "\n",
    "        # Forward pass\n",
    "        outputs = model(inputs.to(device))\n",
    "\n",
    "        # Calculate loss\n",
    "        # print(\"Pred min, max: \", outputs.shape, outputs.min().item(), outputs.max().item())\n",
    "        # print(\"Label min, max: \", targets.shape, targets.min().item(), targets.max().item())\n",
    "        loss = criterion(outputs, targets.to(device))\n",
    "\n",
    "        # Backward pass and optimization\n",
    "        loss.backward()\n",
    "        optimizer.step()\n",
    "        loss_history.append(loss.item())\n",
    "\n",
    "    print(f\"Epoch {epoch+1}/{epochs} Loss: {loss.item()}\")\n",
    "\n",
    "\n",
    "# Plotting the loss history\n",
    "plt.plot(loss_history)\n",
    "plt.title('Loss History')\n",
    "plt.xlabel('Batch Number')\n",
    "plt.ylabel('Loss')\n",
    "plt.show()"
   ]
  },
  {
   "cell_type": "code",
   "execution_count": 108,
   "metadata": {},
   "outputs": [
    {
     "name": "stdout",
     "output_type": "stream",
     "text": [
      "Batch 0 passed all tests.\n",
      "Batch 1 passed all tests.\n"
     ]
    },
    {
     "name": "stderr",
     "output_type": "stream",
     "text": [
      "/tmp/ipykernel_3228/2007158972.py:14: UserWarning: To copy construct from a tensor, it is recommended to use sourceTensor.clone().detach() or sourceTensor.clone().detach().requires_grad_(True), rather than torch.tensor(sourceTensor).\n",
      "  return torch.tensor(input, dtype=torch.float), torch.tensor([label], dtype=torch.float)\n"
     ]
    },
    {
     "ename": "RuntimeError",
     "evalue": "stack expects each tensor to be equal size, but got [512] at entry 0 and [] at entry 1",
     "output_type": "error",
     "traceback": [
      "\u001b[0;31m---------------------------------------------------------------------------\u001b[0m",
      "\u001b[0;31mRuntimeError\u001b[0m                              Traceback (most recent call last)",
      "Cell \u001b[0;32mIn[108], line 22\u001b[0m\n\u001b[1;32m     19\u001b[0m         \u001b[38;5;28mprint\u001b[39m(\u001b[38;5;124mf\u001b[39m\u001b[38;5;124m\"\u001b[39m\u001b[38;5;124mBatch \u001b[39m\u001b[38;5;132;01m{\u001b[39;00mi\u001b[38;5;132;01m}\u001b[39;00m\u001b[38;5;124m passed all tests.\u001b[39m\u001b[38;5;124m\"\u001b[39m)\n\u001b[1;32m     21\u001b[0m \u001b[38;5;66;03m# Assuming train_loader is your DataLoader instance\u001b[39;00m\n\u001b[0;32m---> 22\u001b[0m \u001b[43mtest_train_loader\u001b[49m\u001b[43m(\u001b[49m\u001b[43mtrain_loader\u001b[49m\u001b[43m)\u001b[49m\n",
      "Cell \u001b[0;32mIn[108], line 2\u001b[0m, in \u001b[0;36mtest_train_loader\u001b[0;34m(train_loader)\u001b[0m\n\u001b[1;32m      1\u001b[0m \u001b[38;5;28;01mdef\u001b[39;00m \u001b[38;5;21mtest_train_loader\u001b[39m(train_loader):\n\u001b[0;32m----> 2\u001b[0m \u001b[43m    \u001b[49m\u001b[38;5;28;43;01mfor\u001b[39;49;00m\u001b[43m \u001b[49m\u001b[43mi\u001b[49m\u001b[43m,\u001b[49m\u001b[43m \u001b[49m\u001b[43m(\u001b[49m\u001b[43mdata\u001b[49m\u001b[43m,\u001b[49m\u001b[43m \u001b[49m\u001b[43mlabels\u001b[49m\u001b[43m)\u001b[49m\u001b[43m \u001b[49m\u001b[38;5;129;43;01min\u001b[39;49;00m\u001b[43m \u001b[49m\u001b[38;5;28;43menumerate\u001b[39;49m\u001b[43m(\u001b[49m\u001b[43mtrain_loader\u001b[49m\u001b[43m)\u001b[49m\u001b[43m:\u001b[49m\n\u001b[1;32m      3\u001b[0m \u001b[43m        \u001b[49m\u001b[38;5;66;43;03m# Check if data and labels are of type torch.Tensor\u001b[39;49;00m\n\u001b[1;32m      4\u001b[0m \u001b[43m        \u001b[49m\u001b[38;5;28;43;01massert\u001b[39;49;00m\u001b[43m \u001b[49m\u001b[38;5;28;43misinstance\u001b[39;49m\u001b[43m(\u001b[49m\u001b[43mdata\u001b[49m\u001b[43m,\u001b[49m\u001b[43m \u001b[49m\u001b[43mtorch\u001b[49m\u001b[38;5;241;43m.\u001b[39;49m\u001b[43mTensor\u001b[49m\u001b[43m)\u001b[49m\u001b[43m,\u001b[49m\u001b[43m \u001b[49m\u001b[38;5;124;43mf\u001b[39;49m\u001b[38;5;124;43m\"\u001b[39;49m\u001b[38;5;124;43mData in batch \u001b[39;49m\u001b[38;5;132;43;01m{\u001b[39;49;00m\u001b[43mi\u001b[49m\u001b[38;5;132;43;01m}\u001b[39;49;00m\u001b[38;5;124;43m is not a torch.Tensor\u001b[39;49m\u001b[38;5;124;43m\"\u001b[39;49m\n\u001b[1;32m      5\u001b[0m \u001b[43m        \u001b[49m\u001b[38;5;28;43;01massert\u001b[39;49;00m\u001b[43m \u001b[49m\u001b[38;5;28;43misinstance\u001b[39;49m\u001b[43m(\u001b[49m\u001b[43mlabels\u001b[49m\u001b[43m,\u001b[49m\u001b[43m \u001b[49m\u001b[43mtorch\u001b[49m\u001b[38;5;241;43m.\u001b[39;49m\u001b[43mTensor\u001b[49m\u001b[43m)\u001b[49m\u001b[43m,\u001b[49m\u001b[43m \u001b[49m\u001b[38;5;124;43mf\u001b[39;49m\u001b[38;5;124;43m\"\u001b[39;49m\u001b[38;5;124;43mLabels in batch \u001b[39;49m\u001b[38;5;132;43;01m{\u001b[39;49;00m\u001b[43mi\u001b[49m\u001b[38;5;132;43;01m}\u001b[39;49;00m\u001b[38;5;124;43m is not a torch.Tensor\u001b[39;49m\u001b[38;5;124;43m\"\u001b[39;49m\n",
      "File \u001b[0;32m~/.local/share/virtualenvs/ML-experiments-O_fZcL8t/lib/python3.11/site-packages/torch/utils/data/dataloader.py:630\u001b[0m, in \u001b[0;36m_BaseDataLoaderIter.__next__\u001b[0;34m(self)\u001b[0m\n\u001b[1;32m    627\u001b[0m \u001b[38;5;28;01mif\u001b[39;00m \u001b[38;5;28mself\u001b[39m\u001b[38;5;241m.\u001b[39m_sampler_iter \u001b[38;5;129;01mis\u001b[39;00m \u001b[38;5;28;01mNone\u001b[39;00m:\n\u001b[1;32m    628\u001b[0m     \u001b[38;5;66;03m# TODO(https://github.com/pytorch/pytorch/issues/76750)\u001b[39;00m\n\u001b[1;32m    629\u001b[0m     \u001b[38;5;28mself\u001b[39m\u001b[38;5;241m.\u001b[39m_reset()  \u001b[38;5;66;03m# type: ignore[call-arg]\u001b[39;00m\n\u001b[0;32m--> 630\u001b[0m data \u001b[38;5;241m=\u001b[39m \u001b[38;5;28;43mself\u001b[39;49m\u001b[38;5;241;43m.\u001b[39;49m\u001b[43m_next_data\u001b[49m\u001b[43m(\u001b[49m\u001b[43m)\u001b[49m\n\u001b[1;32m    631\u001b[0m \u001b[38;5;28mself\u001b[39m\u001b[38;5;241m.\u001b[39m_num_yielded \u001b[38;5;241m+\u001b[39m\u001b[38;5;241m=\u001b[39m \u001b[38;5;241m1\u001b[39m\n\u001b[1;32m    632\u001b[0m \u001b[38;5;28;01mif\u001b[39;00m \u001b[38;5;28mself\u001b[39m\u001b[38;5;241m.\u001b[39m_dataset_kind \u001b[38;5;241m==\u001b[39m _DatasetKind\u001b[38;5;241m.\u001b[39mIterable \u001b[38;5;129;01mand\u001b[39;00m \\\n\u001b[1;32m    633\u001b[0m         \u001b[38;5;28mself\u001b[39m\u001b[38;5;241m.\u001b[39m_IterableDataset_len_called \u001b[38;5;129;01mis\u001b[39;00m \u001b[38;5;129;01mnot\u001b[39;00m \u001b[38;5;28;01mNone\u001b[39;00m \u001b[38;5;129;01mand\u001b[39;00m \\\n\u001b[1;32m    634\u001b[0m         \u001b[38;5;28mself\u001b[39m\u001b[38;5;241m.\u001b[39m_num_yielded \u001b[38;5;241m>\u001b[39m \u001b[38;5;28mself\u001b[39m\u001b[38;5;241m.\u001b[39m_IterableDataset_len_called:\n",
      "File \u001b[0;32m~/.local/share/virtualenvs/ML-experiments-O_fZcL8t/lib/python3.11/site-packages/torch/utils/data/dataloader.py:674\u001b[0m, in \u001b[0;36m_SingleProcessDataLoaderIter._next_data\u001b[0;34m(self)\u001b[0m\n\u001b[1;32m    672\u001b[0m \u001b[38;5;28;01mdef\u001b[39;00m \u001b[38;5;21m_next_data\u001b[39m(\u001b[38;5;28mself\u001b[39m):\n\u001b[1;32m    673\u001b[0m     index \u001b[38;5;241m=\u001b[39m \u001b[38;5;28mself\u001b[39m\u001b[38;5;241m.\u001b[39m_next_index()  \u001b[38;5;66;03m# may raise StopIteration\u001b[39;00m\n\u001b[0;32m--> 674\u001b[0m     data \u001b[38;5;241m=\u001b[39m \u001b[38;5;28;43mself\u001b[39;49m\u001b[38;5;241;43m.\u001b[39;49m\u001b[43m_dataset_fetcher\u001b[49m\u001b[38;5;241;43m.\u001b[39;49m\u001b[43mfetch\u001b[49m\u001b[43m(\u001b[49m\u001b[43mindex\u001b[49m\u001b[43m)\u001b[49m  \u001b[38;5;66;03m# may raise StopIteration\u001b[39;00m\n\u001b[1;32m    675\u001b[0m     \u001b[38;5;28;01mif\u001b[39;00m \u001b[38;5;28mself\u001b[39m\u001b[38;5;241m.\u001b[39m_pin_memory:\n\u001b[1;32m    676\u001b[0m         data \u001b[38;5;241m=\u001b[39m _utils\u001b[38;5;241m.\u001b[39mpin_memory\u001b[38;5;241m.\u001b[39mpin_memory(data, \u001b[38;5;28mself\u001b[39m\u001b[38;5;241m.\u001b[39m_pin_memory_device)\n",
      "File \u001b[0;32m~/.local/share/virtualenvs/ML-experiments-O_fZcL8t/lib/python3.11/site-packages/torch/utils/data/_utils/fetch.py:54\u001b[0m, in \u001b[0;36m_MapDatasetFetcher.fetch\u001b[0;34m(self, possibly_batched_index)\u001b[0m\n\u001b[1;32m     52\u001b[0m \u001b[38;5;28;01melse\u001b[39;00m:\n\u001b[1;32m     53\u001b[0m     data \u001b[38;5;241m=\u001b[39m \u001b[38;5;28mself\u001b[39m\u001b[38;5;241m.\u001b[39mdataset[possibly_batched_index]\n\u001b[0;32m---> 54\u001b[0m \u001b[38;5;28;01mreturn\u001b[39;00m \u001b[38;5;28;43mself\u001b[39;49m\u001b[38;5;241;43m.\u001b[39;49m\u001b[43mcollate_fn\u001b[49m\u001b[43m(\u001b[49m\u001b[43mdata\u001b[49m\u001b[43m)\u001b[49m\n",
      "File \u001b[0;32m~/.local/share/virtualenvs/ML-experiments-O_fZcL8t/lib/python3.11/site-packages/torch/utils/data/_utils/collate.py:265\u001b[0m, in \u001b[0;36mdefault_collate\u001b[0;34m(batch)\u001b[0m\n\u001b[1;32m    204\u001b[0m \u001b[38;5;28;01mdef\u001b[39;00m \u001b[38;5;21mdefault_collate\u001b[39m(batch):\n\u001b[1;32m    205\u001b[0m \u001b[38;5;250m    \u001b[39m\u001b[38;5;124mr\u001b[39m\u001b[38;5;124;03m\"\"\"\u001b[39;00m\n\u001b[1;32m    206\u001b[0m \u001b[38;5;124;03m        Function that takes in a batch of data and puts the elements within the batch\u001b[39;00m\n\u001b[1;32m    207\u001b[0m \u001b[38;5;124;03m        into a tensor with an additional outer dimension - batch size. The exact output type can be\u001b[39;00m\n\u001b[0;32m   (...)\u001b[0m\n\u001b[1;32m    263\u001b[0m \u001b[38;5;124;03m            >>> default_collate(batch)  # Handle `CustomType` automatically\u001b[39;00m\n\u001b[1;32m    264\u001b[0m \u001b[38;5;124;03m    \"\"\"\u001b[39;00m\n\u001b[0;32m--> 265\u001b[0m     \u001b[38;5;28;01mreturn\u001b[39;00m \u001b[43mcollate\u001b[49m\u001b[43m(\u001b[49m\u001b[43mbatch\u001b[49m\u001b[43m,\u001b[49m\u001b[43m \u001b[49m\u001b[43mcollate_fn_map\u001b[49m\u001b[38;5;241;43m=\u001b[39;49m\u001b[43mdefault_collate_fn_map\u001b[49m\u001b[43m)\u001b[49m\n",
      "File \u001b[0;32m~/.local/share/virtualenvs/ML-experiments-O_fZcL8t/lib/python3.11/site-packages/torch/utils/data/_utils/collate.py:142\u001b[0m, in \u001b[0;36mcollate\u001b[0;34m(batch, collate_fn_map)\u001b[0m\n\u001b[1;32m    139\u001b[0m transposed \u001b[38;5;241m=\u001b[39m \u001b[38;5;28mlist\u001b[39m(\u001b[38;5;28mzip\u001b[39m(\u001b[38;5;241m*\u001b[39mbatch))  \u001b[38;5;66;03m# It may be accessed twice, so we use a list.\u001b[39;00m\n\u001b[1;32m    141\u001b[0m \u001b[38;5;28;01mif\u001b[39;00m \u001b[38;5;28misinstance\u001b[39m(elem, \u001b[38;5;28mtuple\u001b[39m):\n\u001b[0;32m--> 142\u001b[0m     \u001b[38;5;28;01mreturn\u001b[39;00m \u001b[43m[\u001b[49m\u001b[43mcollate\u001b[49m\u001b[43m(\u001b[49m\u001b[43msamples\u001b[49m\u001b[43m,\u001b[49m\u001b[43m \u001b[49m\u001b[43mcollate_fn_map\u001b[49m\u001b[38;5;241;43m=\u001b[39;49m\u001b[43mcollate_fn_map\u001b[49m\u001b[43m)\u001b[49m\u001b[43m \u001b[49m\u001b[38;5;28;43;01mfor\u001b[39;49;00m\u001b[43m \u001b[49m\u001b[43msamples\u001b[49m\u001b[43m \u001b[49m\u001b[38;5;129;43;01min\u001b[39;49;00m\u001b[43m \u001b[49m\u001b[43mtransposed\u001b[49m\u001b[43m]\u001b[49m  \u001b[38;5;66;03m# Backwards compatibility.\u001b[39;00m\n\u001b[1;32m    143\u001b[0m \u001b[38;5;28;01melse\u001b[39;00m:\n\u001b[1;32m    144\u001b[0m     \u001b[38;5;28;01mtry\u001b[39;00m:\n",
      "File \u001b[0;32m~/.local/share/virtualenvs/ML-experiments-O_fZcL8t/lib/python3.11/site-packages/torch/utils/data/_utils/collate.py:142\u001b[0m, in \u001b[0;36m<listcomp>\u001b[0;34m(.0)\u001b[0m\n\u001b[1;32m    139\u001b[0m transposed \u001b[38;5;241m=\u001b[39m \u001b[38;5;28mlist\u001b[39m(\u001b[38;5;28mzip\u001b[39m(\u001b[38;5;241m*\u001b[39mbatch))  \u001b[38;5;66;03m# It may be accessed twice, so we use a list.\u001b[39;00m\n\u001b[1;32m    141\u001b[0m \u001b[38;5;28;01mif\u001b[39;00m \u001b[38;5;28misinstance\u001b[39m(elem, \u001b[38;5;28mtuple\u001b[39m):\n\u001b[0;32m--> 142\u001b[0m     \u001b[38;5;28;01mreturn\u001b[39;00m [\u001b[43mcollate\u001b[49m\u001b[43m(\u001b[49m\u001b[43msamples\u001b[49m\u001b[43m,\u001b[49m\u001b[43m \u001b[49m\u001b[43mcollate_fn_map\u001b[49m\u001b[38;5;241;43m=\u001b[39;49m\u001b[43mcollate_fn_map\u001b[49m\u001b[43m)\u001b[49m \u001b[38;5;28;01mfor\u001b[39;00m samples \u001b[38;5;129;01min\u001b[39;00m transposed]  \u001b[38;5;66;03m# Backwards compatibility.\u001b[39;00m\n\u001b[1;32m    143\u001b[0m \u001b[38;5;28;01melse\u001b[39;00m:\n\u001b[1;32m    144\u001b[0m     \u001b[38;5;28;01mtry\u001b[39;00m:\n",
      "File \u001b[0;32m~/.local/share/virtualenvs/ML-experiments-O_fZcL8t/lib/python3.11/site-packages/torch/utils/data/_utils/collate.py:119\u001b[0m, in \u001b[0;36mcollate\u001b[0;34m(batch, collate_fn_map)\u001b[0m\n\u001b[1;32m    117\u001b[0m \u001b[38;5;28;01mif\u001b[39;00m collate_fn_map \u001b[38;5;129;01mis\u001b[39;00m \u001b[38;5;129;01mnot\u001b[39;00m \u001b[38;5;28;01mNone\u001b[39;00m:\n\u001b[1;32m    118\u001b[0m     \u001b[38;5;28;01mif\u001b[39;00m elem_type \u001b[38;5;129;01min\u001b[39;00m collate_fn_map:\n\u001b[0;32m--> 119\u001b[0m         \u001b[38;5;28;01mreturn\u001b[39;00m \u001b[43mcollate_fn_map\u001b[49m\u001b[43m[\u001b[49m\u001b[43melem_type\u001b[49m\u001b[43m]\u001b[49m\u001b[43m(\u001b[49m\u001b[43mbatch\u001b[49m\u001b[43m,\u001b[49m\u001b[43m \u001b[49m\u001b[43mcollate_fn_map\u001b[49m\u001b[38;5;241;43m=\u001b[39;49m\u001b[43mcollate_fn_map\u001b[49m\u001b[43m)\u001b[49m\n\u001b[1;32m    121\u001b[0m     \u001b[38;5;28;01mfor\u001b[39;00m collate_type \u001b[38;5;129;01min\u001b[39;00m collate_fn_map:\n\u001b[1;32m    122\u001b[0m         \u001b[38;5;28;01mif\u001b[39;00m \u001b[38;5;28misinstance\u001b[39m(elem, collate_type):\n",
      "File \u001b[0;32m~/.local/share/virtualenvs/ML-experiments-O_fZcL8t/lib/python3.11/site-packages/torch/utils/data/_utils/collate.py:162\u001b[0m, in \u001b[0;36mcollate_tensor_fn\u001b[0;34m(batch, collate_fn_map)\u001b[0m\n\u001b[1;32m    160\u001b[0m     storage \u001b[38;5;241m=\u001b[39m elem\u001b[38;5;241m.\u001b[39m_typed_storage()\u001b[38;5;241m.\u001b[39m_new_shared(numel, device\u001b[38;5;241m=\u001b[39melem\u001b[38;5;241m.\u001b[39mdevice)\n\u001b[1;32m    161\u001b[0m     out \u001b[38;5;241m=\u001b[39m elem\u001b[38;5;241m.\u001b[39mnew(storage)\u001b[38;5;241m.\u001b[39mresize_(\u001b[38;5;28mlen\u001b[39m(batch), \u001b[38;5;241m*\u001b[39m\u001b[38;5;28mlist\u001b[39m(elem\u001b[38;5;241m.\u001b[39msize()))\n\u001b[0;32m--> 162\u001b[0m \u001b[38;5;28;01mreturn\u001b[39;00m \u001b[43mtorch\u001b[49m\u001b[38;5;241;43m.\u001b[39;49m\u001b[43mstack\u001b[49m\u001b[43m(\u001b[49m\u001b[43mbatch\u001b[49m\u001b[43m,\u001b[49m\u001b[43m \u001b[49m\u001b[38;5;241;43m0\u001b[39;49m\u001b[43m,\u001b[49m\u001b[43m \u001b[49m\u001b[43mout\u001b[49m\u001b[38;5;241;43m=\u001b[39;49m\u001b[43mout\u001b[49m\u001b[43m)\u001b[49m\n",
      "\u001b[0;31mRuntimeError\u001b[0m: stack expects each tensor to be equal size, but got [512] at entry 0 and [] at entry 1"
     ]
    }
   ],
   "source": [
    "def test_train_loader(train_loader):\n",
    "    for i, (data, labels) in enumerate(train_loader):\n",
    "        # Check if data and labels are of type torch.Tensor\n",
    "        assert isinstance(data, torch.Tensor), f\"Data in batch {i} is not a torch.Tensor\"\n",
    "        assert isinstance(labels, torch.Tensor), f\"Labels in batch {i} is not a torch.Tensor\"\n",
    "        \n",
    "        # Check the dimensions of the data and labels\n",
    "        # Assuming data should have dimensions [batch_size, 512] and labels [batch_size, 1]\n",
    "        assert data.dim() == 2, f\"Data in batch {i} does not have 2 dimensions\"\n",
    "        assert data.shape[1] == 512, f\"Data in batch {i} does not have 512 features, has {data.shape[1]}\"\n",
    "        assert labels.dim() == 2, f\"Labels in batch {i} do not have 2 dimensions\"\n",
    "        assert labels.shape[1] == 1, f\"Labels in batch {i} are not single values, shape is {labels.shape}\"\n",
    "        \n",
    "        # Optionally, check the range of data and labels if applicable\n",
    "        # For example, if labels are ratings between 0 and 5\n",
    "        assert labels.min() >= 0, f\"Labels in batch {i} contain values less than 0\"\n",
    "        assert labels.max() <= 1, f\"Labels in batch {i} contain values greater than 5\"\n",
    "        \n",
    "        print(f\"Batch {i} passed all tests.\")\n",
    "\n",
    "# Assuming train_loader is your DataLoader instance\n",
    "test_train_loader(train_loader)\n"
   ]
  }
 ],
 "metadata": {
  "kernelspec": {
   "display_name": "Python 3 (ipykernel)",
   "language": "python",
   "name": "python3"
  },
  "language_info": {
   "codemirror_mode": {
    "name": "ipython",
    "version": 3
   },
   "file_extension": ".py",
   "mimetype": "text/x-python",
   "name": "python",
   "nbconvert_exporter": "python",
   "pygments_lexer": "ipython3",
   "version": "3.11.5"
  }
 },
 "nbformat": 4,
 "nbformat_minor": 2
}
